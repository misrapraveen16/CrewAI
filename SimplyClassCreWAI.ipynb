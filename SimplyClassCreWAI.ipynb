{
 "cells": [
  {
   "cell_type": "code",
   "execution_count": 1,
   "metadata": {},
   "outputs": [],
   "source": [
    "import torch\n",
    "import numpy as np"
   ]
  },
  {
   "cell_type": "code",
   "execution_count": 2,
   "metadata": {},
   "outputs": [
    {
     "name": "stderr",
     "output_type": "stream",
     "text": [
      "c:\\Users\\prave\\anaconda3\\Lib\\site-packages\\paramiko\\pkey.py:82: CryptographyDeprecationWarning: TripleDES has been moved to cryptography.hazmat.decrepit.ciphers.algorithms.TripleDES and will be removed from this module in 48.0.0.\n",
      "  \"cipher\": algorithms.TripleDES,\n",
      "c:\\Users\\prave\\anaconda3\\Lib\\site-packages\\paramiko\\transport.py:219: CryptographyDeprecationWarning: Blowfish has been moved to cryptography.hazmat.decrepit.ciphers.algorithms.Blowfish and will be removed from this module in 45.0.0.\n",
      "  \"class\": algorithms.Blowfish,\n",
      "c:\\Users\\prave\\anaconda3\\Lib\\site-packages\\paramiko\\transport.py:243: CryptographyDeprecationWarning: TripleDES has been moved to cryptography.hazmat.decrepit.ciphers.algorithms.TripleDES and will be removed from this module in 48.0.0.\n",
      "  \"class\": algorithms.TripleDES,\n"
     ]
    }
   ],
   "source": [
    "import os\n",
    "\n",
    "from crewai_tools import SerperDevTool, BrowserbaseLoadTool, EXASearchTool\n",
    "from crewai import Agent\n",
    "from crewai import Task\n",
    "from crewai import LLM\n",
    "\n",
    "from langchain_community.llms import Ollama\n",
    "\n",
    "\n",
    "from crewai import Crew, Process"
   ]
  },
  {
   "cell_type": "code",
   "execution_count": 7,
   "metadata": {},
   "outputs": [],
   "source": [
    "researcher_agent = Agent(\n",
    "    role='Researcher',\n",
    "    goal='Find and summarize the latest AI news',\n",
    "    backstory=\"\"\"You're a researcher at a large company.\n",
    "    You're responsible for analyzing data and providing insights\n",
    "    to the business.\"\"\",\n",
    "    verbose=False,\n",
    "    ## llm=llm_llama\n",
    "    llm=LLM( model=\"ollama/llama3.2\", base_url=\"http://localhost:11434\" )\n",
    ")"
   ]
  },
  {
   "cell_type": "code",
   "execution_count": 8,
   "metadata": {},
   "outputs": [],
   "source": [
    "research_task = Task(\n",
    "    description=\"Conduct comprehensive research on the latest AI developments.\",\n",
    "    expected_output=\"A summary report highlighting key advancements in AI.\",\n",
    "    agent=researcher_agent,\n",
    "    ## tools=[search_tool],\n",
    "    async_execution=True\n",
    ")"
   ]
  },
  {
   "cell_type": "code",
   "execution_count": 9,
   "metadata": {},
   "outputs": [
    {
     "name": "stderr",
     "output_type": "stream",
     "text": [
      "2025-01-17 20:19:47,338 - 1200 - __init__.py-__init__:537 - WARNING: Overriding of current TracerProvider is not allowed\n"
     ]
    }
   ],
   "source": [
    "my_crew = Crew(\n",
    "    agents=[researcher_agent],\n",
    "    tasks=[research_task],\n",
    "    process=Process.sequential,\n",
    "    verbose=True\n",
    ")"
   ]
  },
  {
   "cell_type": "code",
   "execution_count": 10,
   "metadata": {},
   "outputs": [
    {
     "name": "stdout",
     "output_type": "stream",
     "text": [
      "\u001b[1m\u001b[95m# Agent:\u001b[00m \u001b[1m\u001b[92mResearcher\u001b[00m\n",
      "\u001b[95m## Task:\u001b[00m \u001b[92mConduct comprehensive research on the latest AI developments.\u001b[00m\n",
      "\n",
      "\n",
      "\u001b[1m\u001b[95m# Agent:\u001b[00m \u001b[1m\u001b[92mResearcher\u001b[00m\n",
      "\u001b[95m## Final Answer:\u001b[00m \u001b[92m\n",
      "Recent advancements in Artificial Intelligence (AI) have been remarkable, with numerous breakthroughs across various domains. Here's a comprehensive report highlighting key developments:\n",
      "\n",
      "**1. Natural Language Processing (NLP)**:\n",
      "- Google's BERT (Bidirectional Encoder Representations from Transformers) improved language understanding and question answering capabilities.\n",
      "- Baidu released the 2022 version of its popular search engine, with AI-powered chatbots that can engage in conversations.\n",
      "\n",
      "**2. Computer Vision**:\n",
      "- The AI model 'DeepMind's AlphaFold' successfully predicted protein structures, a breakthrough in bioinformatics.\n",
      "- Researchers developed 'self-supervised learning' for image recognition tasks, which significantly reduced training data requirements.\n",
      "\n",
      "**3. Reinforcement Learning**:\n",
      "- Google announced an AI that can play 40 classic video games without human input.\n",
      "- Facebook released its \"Focal Loss\" algorithm to improve reinforcement learning efficiency in deep neural networks.\n",
      "\n",
      "**4. Edge AI and IoT**:\n",
      "- Intel released its \"Falcon Eyes\" platform for edge AI applications, integrating AI into industrial equipment and vehicles.\n",
      "- Researchers explored 'Edge AI' techniques for low-latency real-time video analysis on smartphones and smart home devices.\n",
      "\n",
      "**5. Quantum AI/ML**:\n",
      "- Google announced a 53-qubit quantum processor designed to speed up AI computations by orders of magnitude.\n",
      "- Research groups developed new 'Quantum Reinforcement Learning algorithms', showing promise in various applications.\n",
      "\n",
      "**6. Transfer Learning and Adversarial Attacks**:\n",
      "- Researchers improved 'transfer learning' for robust image recognition by developing more advanced meta-learning models.\n",
      "- A study highlighted the vulnerability of state-of-the-art defense mechanisms against sophisticated 'adversarial attacks'.\n",
      "\n",
      "**7. Human-AI Collaboration**:\n",
      "- Researchers discovered ways to enhance human decision-making using AI-driven insights, with applications in fields like finance and healthcare.\n",
      "- Apple incorporated natural language processing in its new Siri updates for more intuitive voice interactions.\n",
      "\n",
      "These breakthroughs underscore the vast potential of Artificial Intelligence to transform industries, revolutionize communication, and improve human lives.\u001b[00m\n",
      "\n",
      "\n",
      "Recent advancements in Artificial Intelligence (AI) have been remarkable, with numerous breakthroughs across various domains. Here's a comprehensive report highlighting key developments:\n",
      "\n",
      "**1. Natural Language Processing (NLP)**:\n",
      "- Google's BERT (Bidirectional Encoder Representations from Transformers) improved language understanding and question answering capabilities.\n",
      "- Baidu released the 2022 version of its popular search engine, with AI-powered chatbots that can engage in conversations.\n",
      "\n",
      "**2. Computer Vision**:\n",
      "- The AI model 'DeepMind's AlphaFold' successfully predicted protein structures, a breakthrough in bioinformatics.\n",
      "- Researchers developed 'self-supervised learning' for image recognition tasks, which significantly reduced training data requirements.\n",
      "\n",
      "**3. Reinforcement Learning**:\n",
      "- Google announced an AI that can play 40 classic video games without human input.\n",
      "- Facebook released its \"Focal Loss\" algorithm to improve reinforcement learning efficiency in deep neural networks.\n",
      "\n",
      "**4. Edge AI and IoT**:\n",
      "- Intel released its \"Falcon Eyes\" platform for edge AI applications, integrating AI into industrial equipment and vehicles.\n",
      "- Researchers explored 'Edge AI' techniques for low-latency real-time video analysis on smartphones and smart home devices.\n",
      "\n",
      "**5. Quantum AI/ML**:\n",
      "- Google announced a 53-qubit quantum processor designed to speed up AI computations by orders of magnitude.\n",
      "- Research groups developed new 'Quantum Reinforcement Learning algorithms', showing promise in various applications.\n",
      "\n",
      "**6. Transfer Learning and Adversarial Attacks**:\n",
      "- Researchers improved 'transfer learning' for robust image recognition by developing more advanced meta-learning models.\n",
      "- A study highlighted the vulnerability of state-of-the-art defense mechanisms against sophisticated 'adversarial attacks'.\n",
      "\n",
      "**7. Human-AI Collaboration**:\n",
      "- Researchers discovered ways to enhance human decision-making using AI-driven insights, with applications in fields like finance and healthcare.\n",
      "- Apple incorporated natural language processing in its new Siri updates for more intuitive voice interactions.\n",
      "\n",
      "These breakthroughs underscore the vast potential of Artificial Intelligence to transform industries, revolutionize communication, and improve human lives.\n"
     ]
    }
   ],
   "source": [
    "result = my_crew.kickoff()\n",
    "\n",
    "print(result)"
   ]
  }
 ],
 "metadata": {
  "kernelspec": {
   "display_name": "base",
   "language": "python",
   "name": "python3"
  },
  "language_info": {
   "codemirror_mode": {
    "name": "ipython",
    "version": 3
   },
   "file_extension": ".py",
   "mimetype": "text/x-python",
   "name": "python",
   "nbconvert_exporter": "python",
   "pygments_lexer": "ipython3",
   "version": "3.12.7"
  }
 },
 "nbformat": 4,
 "nbformat_minor": 2
}
