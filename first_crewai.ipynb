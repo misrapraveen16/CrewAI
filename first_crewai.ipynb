{
 "cells": [
  {
   "cell_type": "code",
   "execution_count": null,
   "metadata": {},
   "outputs": [],
   "source": [
    "!pip install crewai"
   ]
  },
  {
   "cell_type": "code",
   "execution_count": null,
   "metadata": {},
   "outputs": [],
   "source": [
    "#!pip install tiktoken\n",
    "#!pip install --upgrade pip\n",
    "#!pip install tiktoken\n",
    "!pip install crewai\n",
    "\n"
   ]
  },
  {
   "cell_type": "code",
   "execution_count": null,
   "metadata": {},
   "outputs": [],
   "source": [
    "!pip install crewai_tools"
   ]
  },
  {
   "cell_type": "code",
   "execution_count": null,
   "metadata": {},
   "outputs": [],
   "source": [
    "\n",
    "import os\n",
    "from crewai_tools import SerperDevTool, BrowserbaseLoadTool, EXASearchTool\n",
    "from crewai import Agent\n",
    "from crewai import Task\n",
    "from crewai import LLM\n",
    "\n",
    "from langchain_community.llms import Ollama\n",
    "\n",
    "\n",
    "from crewai import Crew, Process"
   ]
  },
  {
   "cell_type": "code",
   "execution_count": 8,
   "metadata": {},
   "outputs": [
    {
     "name": "stderr",
     "output_type": "stream",
     "text": [
      "'rustc' is not recognized as an internal or external command,\n",
      "operable program or batch file.\n"
     ]
    }
   ],
   "source": [
    "!rustc --version"
   ]
  },
  {
   "cell_type": "code",
   "execution_count": 7,
   "metadata": {},
   "outputs": [],
   "source": [
    "researcher_agent = Agent(\n",
    "    role=\"Senior Data Researcher\",\n",
    "    goal=\"Uncover cutting-edge developments in AI\",\n",
    "    backstory=\"A seasoned researcher with a knack for uncovering the latest developments in AI.\",\n",
    "    tools=[ SerperDevTool() ],\n",
    "    verbose=True\n",
    ")"
   ]
  },
  {
   "cell_type": "code",
   "execution_count": 8,
   "metadata": {},
   "outputs": [],
   "source": [
    "ollama_llm = LLM(\n",
    "    model=\"ollama/llama3.2\",\n",
    "    base_url=\"http://localhost:11434\"\n",
    ")"
   ]
  },
  {
   "cell_type": "code",
   "execution_count": 9,
   "metadata": {},
   "outputs": [],
   "source": [
    "researcher_agent = Agent(\n",
    "    role='Researcher',\n",
    "    goal='Find and summarize the latest AI news',\n",
    "    backstory=\"\"\"You're a researcher at a large company.\n",
    "    You're responsible for analyzing data and providing insights\n",
    "    to the business.\"\"\",\n",
    "    verbose=False,\n",
    "    ## llm=llm_llama\n",
    "    llm=LLM( model=\"ollama/llama3.2\", base_url=\"http://localhost:11434\" )\n",
    ")"
   ]
  },
  {
   "cell_type": "code",
   "execution_count": 11,
   "metadata": {},
   "outputs": [],
   "source": [
    "research_task = Task(\n",
    "    description=\"Conduct comprehensive research on the latest AI developments.\",\n",
    "    expected_output=\"A summary report highlighting key advancements in AI.\",\n",
    "    agent=researcher_agent,\n",
    "    ## tools=[search_tool],\n",
    "    async_execution=True\n",
    ")"
   ]
  },
  {
   "cell_type": "code",
   "execution_count": 12,
   "metadata": {},
   "outputs": [],
   "source": [
    "my_crew = Crew(\n",
    "    agents=[researcher_agent],\n",
    "    tasks=[research_task],\n",
    "    process=Process.sequential,\n",
    "    verbose=True\n",
    ")"
   ]
  },
  {
   "cell_type": "code",
   "execution_count": 13,
   "metadata": {},
   "outputs": [
    {
     "name": "stdout",
     "output_type": "stream",
     "text": [
      "\u001b[1m\u001b[95m# Agent:\u001b[00m \u001b[1m\u001b[92mResearcher\u001b[00m\n",
      "\u001b[95m## Task:\u001b[00m \u001b[92mConduct comprehensive research on the latest AI developments.\u001b[00m\n",
      "\n",
      "\n",
      "\u001b[1m\u001b[95m# Agent:\u001b[00m \u001b[1m\u001b[92mResearcher\u001b[00m\n",
      "\u001b[95m## Final Answer:\u001b[00m \u001b[92m\n",
      "AI has made tremendous progress in recent years, with significant advancements in various fields such as natural language processing, computer vision, and reinforcement learning. Some of the latest developments in AI include:\n",
      "\n",
      "1. **Transformers**: The transformer architecture has revolutionized the field of natural language processing. Introduced in 2017, transformers have been widely adopted in many NLP tasks, including machine translation, question answering, and text generation.\n",
      "\n",
      "2. **Attention Mechanism**: The attention mechanism is a key component of transformers that enables the model to focus on specific parts of the input data when generating output. This has led to significant improvements in language models and other NLP applications.\n",
      "\n",
      "3. **Explainable AI (XAI)**: XAI is a field that focuses on developing techniques to explain the decisions made by AI models. Recent advancements in XAI have led to the development of more transparent and interpretable AI systems, which are becoming increasingly important in high-stakes decision-making domains such as healthcare and finance.\n",
      "\n",
      "4. **Reinforcement Learning**: Reinforcement learning is a type of machine learning where an agent learns to take actions in an environment to maximize a reward signal. Recent advancements in reinforcement learning have led to the development of more effective algorithms, such as policy gradient methods and deep Q-networks, which are being applied in areas such as robotics and game playing.\n",
      "\n",
      "5. **Adversarial Robustness**: Adversarial robustness refers to the ability of an AI system to withstand adversarial attacks, which are designed to mislead or deceive the model. Recent advancements in adversarial robustness have led to the development of more robust AI models, such as those using adversarial training and robust optimization techniques.\n",
      "\n",
      "6. **Graph Neural Networks (GNNs)**: GNNs are a type of neural network designed specifically for graph-structured data. Recent advancements in GNNs have led to significant improvements in applications such as graph classification, node prediction, and graph generation.\n",
      "\n",
      "7. **Autonomous Systems**: Autonomous systems, such as self-driving cars and drones, rely on AI to make decisions in real-time. Recent advancements in autonomous systems have led to the development of more sophisticated AI models, such as those using deep reinforcement learning and sensorimotor integration.\n",
      "\n",
      "8. **Brain-Computer Interfaces (BCIs)**: BCIs are a type of interface that enables people to control devices with their thoughts. Recent advancements in BCIs have led to significant improvements in applications such as prosthetics, gaming, and cognitive rehabilitation.\n",
      "\n",
      "9. **Generative Models**: Generative models, such as GANs and VAEs, are able to generate new data samples that resemble the training data distribution. Recent advancements in generative models have led to significant improvements in applications such as image generation, text synthesis, and music composition.\n",
      "\n",
      "10. **Edge AI**: Edge AI refers to the deployment of AI models on edge devices, such as smartphones and IoT sensors. Recent advancements in edge AI have led to significant improvements in applications such as real-time object detection, gesture recognition, and predictive maintenance.\n",
      "\n",
      "Overall, these recent developments in AI demonstrate the rapid progress being made in the field and highlight the vast potential for AI to transform industries and societies.\n",
      "\n",
      "Recent papers:\n",
      "\n",
      "1. \"Attention Is All You Need\" by Vaswani et al. (2017)\n",
      "2. \"Explaining and Harnessing Adversarial Examples\" by Goodfellow et al. (2015)\n",
      "3. \"Asynchronous Methods for Training Deep Reinforcement Models\" by Lowe et al. (2017)\n",
      "4. \"Graph Attention Networks\" by Velikov et al. (2018)\n",
      "5. \"Deep Learning for Brain-Computer Interfaces\" by Lebedev et al. (2011)\n",
      "\n",
      "Recent datasets:\n",
      "\n",
      "1. Stanford Natural Language Inference Dataset\n",
      "2. ImageNet Dataset\n",
      "3. Cifar-10 Dataset\n",
      "4. MNIST Dataset\n",
      "5. Graph Data Benchmark\n",
      "\n",
      "Recent tools and frameworks:\n",
      "\n",
      "1. TensorFlow\n",
      "2. PyTorch\n",
      "3. Keras\n",
      "4. OpenCV\n",
      "5. Scikit-Learn\u001b[00m\n",
      "\n",
      "\n",
      "AI has made tremendous progress in recent years, with significant advancements in various fields such as natural language processing, computer vision, and reinforcement learning. Some of the latest developments in AI include:\n",
      "\n",
      "1. **Transformers**: The transformer architecture has revolutionized the field of natural language processing. Introduced in 2017, transformers have been widely adopted in many NLP tasks, including machine translation, question answering, and text generation.\n",
      "\n",
      "2. **Attention Mechanism**: The attention mechanism is a key component of transformers that enables the model to focus on specific parts of the input data when generating output. This has led to significant improvements in language models and other NLP applications.\n",
      "\n",
      "3. **Explainable AI (XAI)**: XAI is a field that focuses on developing techniques to explain the decisions made by AI models. Recent advancements in XAI have led to the development of more transparent and interpretable AI systems, which are becoming increasingly important in high-stakes decision-making domains such as healthcare and finance.\n",
      "\n",
      "4. **Reinforcement Learning**: Reinforcement learning is a type of machine learning where an agent learns to take actions in an environment to maximize a reward signal. Recent advancements in reinforcement learning have led to the development of more effective algorithms, such as policy gradient methods and deep Q-networks, which are being applied in areas such as robotics and game playing.\n",
      "\n",
      "5. **Adversarial Robustness**: Adversarial robustness refers to the ability of an AI system to withstand adversarial attacks, which are designed to mislead or deceive the model. Recent advancements in adversarial robustness have led to the development of more robust AI models, such as those using adversarial training and robust optimization techniques.\n",
      "\n",
      "6. **Graph Neural Networks (GNNs)**: GNNs are a type of neural network designed specifically for graph-structured data. Recent advancements in GNNs have led to significant improvements in applications such as graph classification, node prediction, and graph generation.\n",
      "\n",
      "7. **Autonomous Systems**: Autonomous systems, such as self-driving cars and drones, rely on AI to make decisions in real-time. Recent advancements in autonomous systems have led to the development of more sophisticated AI models, such as those using deep reinforcement learning and sensorimotor integration.\n",
      "\n",
      "8. **Brain-Computer Interfaces (BCIs)**: BCIs are a type of interface that enables people to control devices with their thoughts. Recent advancements in BCIs have led to significant improvements in applications such as prosthetics, gaming, and cognitive rehabilitation.\n",
      "\n",
      "9. **Generative Models**: Generative models, such as GANs and VAEs, are able to generate new data samples that resemble the training data distribution. Recent advancements in generative models have led to significant improvements in applications such as image generation, text synthesis, and music composition.\n",
      "\n",
      "10. **Edge AI**: Edge AI refers to the deployment of AI models on edge devices, such as smartphones and IoT sensors. Recent advancements in edge AI have led to significant improvements in applications such as real-time object detection, gesture recognition, and predictive maintenance.\n",
      "\n",
      "Overall, these recent developments in AI demonstrate the rapid progress being made in the field and highlight the vast potential for AI to transform industries and societies.\n",
      "\n",
      "Recent papers:\n",
      "\n",
      "1. \"Attention Is All You Need\" by Vaswani et al. (2017)\n",
      "2. \"Explaining and Harnessing Adversarial Examples\" by Goodfellow et al. (2015)\n",
      "3. \"Asynchronous Methods for Training Deep Reinforcement Models\" by Lowe et al. (2017)\n",
      "4. \"Graph Attention Networks\" by Velikov et al. (2018)\n",
      "5. \"Deep Learning for Brain-Computer Interfaces\" by Lebedev et al. (2011)\n",
      "\n",
      "Recent datasets:\n",
      "\n",
      "1. Stanford Natural Language Inference Dataset\n",
      "2. ImageNet Dataset\n",
      "3. Cifar-10 Dataset\n",
      "4. MNIST Dataset\n",
      "5. Graph Data Benchmark\n",
      "\n",
      "Recent tools and frameworks:\n",
      "\n",
      "1. TensorFlow\n",
      "2. PyTorch\n",
      "3. Keras\n",
      "4. OpenCV\n",
      "5. Scikit-Learn\n"
     ]
    }
   ],
   "source": [
    "result = my_crew.kickoff()\n",
    "print(result)"
   ]
  }
 ],
 "metadata": {
  "kernelspec": {
   "display_name": "base",
   "language": "python",
   "name": "python3"
  },
  "language_info": {
   "codemirror_mode": {
    "name": "ipython",
    "version": 3
   },
   "file_extension": ".py",
   "mimetype": "text/x-python",
   "name": "python",
   "nbconvert_exporter": "python",
   "pygments_lexer": "ipython3",
   "version": "3.12.7"
  }
 },
 "nbformat": 4,
 "nbformat_minor": 2
}
